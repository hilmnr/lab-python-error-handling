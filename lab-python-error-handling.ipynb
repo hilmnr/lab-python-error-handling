{
 "cells": [
  {
   "cell_type": "markdown",
   "id": "25d7736c-ba17-4aff-b6bb-66eba20fbf4e",
   "metadata": {},
   "source": [
    "# Lab | Error Handling"
   ]
  },
  {
   "cell_type": "markdown",
   "id": "bc99b386-7508-47a0-bcdb-d969deaf6c8b",
   "metadata": {
    "tags": []
   },
   "source": [
    "## Exercise: Error Handling for Managing Customer Orders\n",
    "\n",
    "The implementation of your code for managing customer orders assumes that the user will always enter a valid input. \n",
    "\n",
    "For example, we could modify the `initialize_inventory` function to include error handling.\n",
    "   - If the user enters an invalid quantity (e.g., a negative value or a non-numeric value), display an error message and ask them to re-enter the quantity for that product.\n",
    "   - Use a try-except block to handle the error and continue prompting the user until a valid quantity is entered.\n",
    "\n",
    "```python\n",
    "# Step 1: Define the function for initializing the inventory with error handling\n",
    "def initialize_inventory(products):\n",
    "    inventory = {}\n",
    "    for product in products:\n",
    "        valid_quantity = False\n",
    "        while not valid_quantity:\n",
    "            try:\n",
    "                quantity = int(input(f\"Enter the quantity of {product}s available: \"))\n",
    "                if quantity < 0:\n",
    "                    raise ValueError(\"Invalid quantity! Please enter a non-negative value.\")\n",
    "                valid_quantity = True\n",
    "            except ValueError as error:\n",
    "                print(f\"Error: {error}\")\n",
    "        inventory[product] = quantity\n",
    "    return inventory\n",
    "\n",
    "# Or, in another way:\n",
    "\n",
    "def initialize_inventory(products):\n",
    "    inventory = {}\n",
    "    for product in products:\n",
    "        valid_input = False\n",
    "        while not valid_input:\n",
    "            try:\n",
    "                quantity = int(input(f\"Enter the quantity of {product}s available: \"))\n",
    "                if quantity >= 0:\n",
    "                    inventory[product] = quantity\n",
    "                    valid_input = True\n",
    "                else:\n",
    "                    print(\"Quantity cannot be negative. Please enter a valid quantity.\")\n",
    "            except ValueError:\n",
    "                print(\"Invalid input. Please enter a valid quantity.\")\n",
    "    return inventory\n",
    "```\n",
    "\n",
    "Let's enhance your code by implementing error handling to handle invalid inputs.\n",
    "\n",
    "Follow the steps below to complete the exercise:\n",
    "\n",
    "2. Modify the `calculate_total_price` function to include error handling.\n",
    "   - If the user enters an invalid price (e.g., a negative value or a non-numeric value), display an error message and ask them to re-enter the price for that product.\n",
    "   - Use a try-except block to handle the error and continue prompting the user until a valid price is entered.\n",
    "\n",
    "3. Modify the `get_customer_orders` function to include error handling.\n",
    "   - If the user enters an invalid number of orders (e.g., a negative value or a non-numeric value), display an error message and ask them to re-enter the number of orders.\n",
    "   - If the user enters an invalid product name (e.g., a product name that is not in the inventory), or that doesn't have stock available, display an error message and ask them to re-enter the product name. *Hint: you will need to pass inventory as a parameter*\n",
    "   - Use a try-except block to handle the error and continue prompting the user until a valid product name is entered.\n",
    "\n",
    "4. Test your code by running the program and deliberately entering invalid quantities and product names. Make sure the error handling mechanism works as expected.\n"
   ]
  },
  {
   "cell_type": "code",
   "execution_count": 3,
   "id": "3a17c906-77d4-4b34-9807-abefc6870ee3",
   "metadata": {
    "tags": []
   },
   "outputs": [
    {
     "name": "stdin",
     "output_type": "stream",
     "text": [
      "Enter the price for mug:  -1\n"
     ]
    },
    {
     "name": "stdout",
     "output_type": "stream",
     "text": [
      "Please enter a positive amount\n"
     ]
    },
    {
     "name": "stdin",
     "output_type": "stream",
     "text": [
      "Enter the price for mug:  20\n",
      "Enter the price for hat:  30\n",
      "Enter the price for book:  50\n",
      "Enter the price for keychain:  40\n"
     ]
    },
    {
     "name": "stdout",
     "output_type": "stream",
     "text": [
      "Total price: $140.0\n"
     ]
    }
   ],
   "source": [
    "## Question 1\n",
    "def calculate_total_price(customer_orders):\n",
    "    prices = []\n",
    "    for product in customer_orders:\n",
    "        while True:\n",
    "            try:\n",
    "                price = float(input(f\"Enter the price for {product}: \"))\n",
    "                if price >= 0:\n",
    "                    prices.append(price)\n",
    "                    break\n",
    "                else:\n",
    "                    print (\"Please enter a positive amount\") #You could try with raise to input your own errors\n",
    "            except ValueError:\n",
    "                print(\"Invalid price. Please enter a valid numeric price.\")\n",
    "\n",
    "    total_price = sum(prices)\n",
    "    return total_price\n",
    "\n",
    "customer_orders = [\"mug\", \"hat\", \"book\", \"keychain\"]\n",
    "total = calculate_total_price(customer_orders)\n",
    "print(f\"Total price: ${total}\")"
   ]
  },
  {
   "cell_type": "code",
   "execution_count": 19,
   "id": "2a5971f4-bc59-46c1-8aaa-86d002eeb265",
   "metadata": {
    "tags": []
   },
   "outputs": [
    {
     "name": "stdin",
     "output_type": "stream",
     "text": [
      "Enter the number of customer orders:  2\n",
      "Enter product name for order 1:  hat\n",
      "Enter product name for order 2:  book\n"
     ]
    },
    {
     "name": "stdout",
     "output_type": "stream",
     "text": [
      "Customer orders: ['hat', 'book']\n"
     ]
    }
   ],
   "source": [
    "#Question 2\n",
    "def get_customer_orders(inventory):\n",
    "    while True:\n",
    "        try:\n",
    "            num_orders = int(input(\"Enter the number of customer orders: \"))\n",
    "            if num_orders < 0:\n",
    "                print(\"Number of orders cannot be negative.\")\n",
    "                continue\n",
    "\n",
    "            orders = []\n",
    "            for i in range(num_orders):\n",
    "                while True:\n",
    "                    product_name = input(f\"Enter product name for order {i + 1}: \")\n",
    "                    if product_name not in inventory:\n",
    "                        print(\"Product not found in the inventory or out of stock.\")\n",
    "                    else:\n",
    "                        orders.append(product_name)\n",
    "                        break\n",
    "\n",
    "            return orders\n",
    "\n",
    "        except ValueError:\n",
    "            print(\"Invalid input. Please enter a valid numeric value for the number of orders.\")\n",
    "\n",
    "inventory = {\"hat\": 10, \"book\": 5, \"mouse\": 3}\n",
    "customer_orders = get_customer_orders(inventory)\n",
    "print(\"Customer orders:\", customer_orders)"
   ]
  },
  {
   "cell_type": "code",
   "execution_count": null,
   "id": "34bb5b04-6d46-454f-8f4f-76bc425ce5aa",
   "metadata": {},
   "outputs": [],
   "source": []
  }
 ],
 "metadata": {
  "kernelspec": {
   "display_name": "Python 3 (ipykernel)",
   "language": "python",
   "name": "python3"
  },
  "language_info": {
   "codemirror_mode": {
    "name": "ipython",
    "version": 3
   },
   "file_extension": ".py",
   "mimetype": "text/x-python",
   "name": "python",
   "nbconvert_exporter": "python",
   "pygments_lexer": "ipython3",
   "version": "3.11.4"
  }
 },
 "nbformat": 4,
 "nbformat_minor": 5
}
